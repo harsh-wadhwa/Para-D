{
  "nbformat": 4,
  "nbformat_minor": 0,
  "metadata": {
    "colab": {
      "name": "Final ParaD",
      "provenance": [],
      "collapsed_sections": []
    },
    "kernelspec": {
      "name": "python3",
      "display_name": "Python 3"
    },
    "language_info": {
      "name": "python"
    }
  },
  "cells": [
    {
      "cell_type": "markdown",
      "source": [
        "**Import libraries**"
      ],
      "metadata": {
        "id": "GqWaIGtzBI0k"
      }
    },
    {
      "cell_type": "code",
      "execution_count": null,
      "metadata": {
        "id": "oXDvdBAtI7Ks"
      },
      "outputs": [],
      "source": [
        "import os\n",
        "from PIL import Image\n",
        "import matplotlib.pyplot as plt\n",
        "import numpy as np\n",
        "import cv2\n",
        "import math\n",
        "import tensorflow as tf\n",
        "import tensorflow.keras.layers as layers\n",
        "from sklearn.model_selection import train_test_split\n",
        "from tensorflow.keras.utils import to_categorical, Sequence\n",
        "from tensorflow.keras.models import Model, load_model\n",
        "from sklearn.metrics import accuracy_score"
      ]
    },
    {
      "cell_type": "code",
      "source": [
        "from google.colab import drive\n",
        "drive.mount('/content/drive')"
      ],
      "metadata": {
        "colab": {
          "base_uri": "https://localhost:8080/"
        },
        "id": "ECQx9tTT5NcG",
        "outputId": "76fb6d78-34ef-4699-a206-475ef01f3431"
      },
      "execution_count": null,
      "outputs": [
        {
          "output_type": "stream",
          "name": "stdout",
          "text": [
            "Mounted at /content/drive\n"
          ]
        }
      ]
    },
    {
      "cell_type": "code",
      "source": [
        "image_dir = '/content/drive/Othercomputers/2 ZenBook/Aditya/Study/Semester-6/Computer Vision/Project/training-images/cell_images/'"
      ],
      "metadata": {
        "id": "ib4BAQl3JDba"
      },
      "execution_count": null,
      "outputs": []
    },
    {
      "cell_type": "code",
      "source": [
        "parasitized_img = os.listdir(image_dir + 'Parasitized/') \n",
        "uninfected_img = os.listdir(image_dir + 'Uninfected/') "
      ],
      "metadata": {
        "id": "FDQVrBMtJEbq"
      },
      "execution_count": null,
      "outputs": []
    },
    {
      "cell_type": "markdown",
      "source": [
        " **labelling**"
      ],
      "metadata": {
        "id": "JoRKNep1uyX6"
      }
    },
    {
      "cell_type": "code",
      "source": [
        "dataset = []\n",
        "label = []\n",
        "\n",
        "############ loading parasitized images in dataset list ##############\n",
        "for idx, image_name in enumerate(parasitized_img):\n",
        "    if image_name.split('.')[1]=='png':\n",
        "        image = cv2.imread(image_dir + 'Parasitized/'+image_name)\n",
        "        image = Image.fromarray(image, 'RGB')\n",
        "        image = image.resize((64,64))\n",
        "        dataset.append(np.array(image))\n",
        "        label.append(0)\n",
        "\n",
        "############ loading uninfected images in dataset list ##############\n",
        "for idx, image_name in enumerate(uninfected_img):\n",
        "    if image_name.split('.')[1]=='png':\n",
        "        image = cv2.imread(image_dir + 'Uninfected/'+image_name)\n",
        "        image = Image.fromarray(image, 'RGB')\n",
        "        image = image.resize((64,64))\n",
        "        dataset.append(np.array(image))\n",
        "        label.append(1)"
      ],
      "metadata": {
        "id": "G94W3O4NJfaZ"
      },
      "execution_count": null,
      "outputs": []
    },
    {
      "cell_type": "code",
      "source": [
        "len(dataset), len(label)\n"
      ],
      "metadata": {
        "colab": {
          "base_uri": "https://localhost:8080/"
        },
        "id": "rieqSt3AJid8",
        "outputId": "1ceea56d-e3a1-43f2-a0a3-c6b6609cd39b"
      },
      "execution_count": null,
      "outputs": [
        {
          "output_type": "execute_result",
          "data": {
            "text/plain": [
              "(40, 40)"
            ]
          },
          "metadata": {},
          "execution_count": 6
        }
      ]
    },
    {
      "cell_type": "markdown",
      "source": [
        "**Split the data into training set and test set**"
      ],
      "metadata": {
        "id": "VuNRpT28GHjW"
      }
    },
    {
      "cell_type": "code",
      "source": [
        "X_train, X_test, y_train, y_test = train_test_split(np.array(dataset), to_categorical(np.array(label)), test_size=0.2, random_state=69)"
      ],
      "metadata": {
        "id": "DP079hltJkuq"
      },
      "execution_count": null,
      "outputs": []
    },
    {
      "cell_type": "markdown",
      "source": [
        "**Modelling**"
      ],
      "metadata": {
        "id": "YJ6jKmBOsThc"
      }
    },
    {
      "cell_type": "code",
      "source": [
        "model1 = tf.keras.Sequential([\n",
        "        layers.Input(dataset[0].shape),\n",
        "        layers.Conv2D(32,kernel_size=3,activation='relu',padding='same'),\n",
        "        layers.MaxPooling2D(pool_size=2),\n",
        "        layers.BatchNormalization(axis=-1),\n",
        "        layers.Dropout(rate=0.2),\n",
        "\n",
        "\n",
        "        layers.Conv2D(32,kernel_size=3,activation='relu',padding='same'),\n",
        "        layers.MaxPooling2D(pool_size=2),\n",
        "        layers.BatchNormalization(axis=-1),\n",
        "        layers.Dropout(rate=0.2),\n",
        "\n",
        "        layers.Flatten(),\n",
        "\n",
        "        layers.Dense(512,activation='relu'),\n",
        "        layers.BatchNormalization(axis=-1),\n",
        "        layers.Dropout(rate=0.2),\n",
        "\n",
        "        layers.Dense(128,activation='relu'),\n",
        "        layers.Dense(2,activation='softmax'),\n",
        "\n",
        "\n",
        "])\n",
        "model1.compile(optimizer='adam',loss='categorical_crossentropy',metrics=['accuracy'])\n",
        "model1.summary()"
      ],
      "metadata": {
        "id": "dKIcLrqKJnMw",
        "colab": {
          "base_uri": "https://localhost:8080/"
        },
        "outputId": "e7edf2ec-7392-44b8-de9e-b200f81cd0b7"
      },
      "execution_count": null,
      "outputs": [
        {
          "output_type": "stream",
          "name": "stdout",
          "text": [
            "Model: \"sequential\"\n",
            "_________________________________________________________________\n",
            " Layer (type)                Output Shape              Param #   \n",
            "=================================================================\n",
            " conv2d (Conv2D)             (None, 64, 64, 32)        896       \n",
            "                                                                 \n",
            " max_pooling2d (MaxPooling2D  (None, 32, 32, 32)       0         \n",
            " )                                                               \n",
            "                                                                 \n",
            " batch_normalization (BatchN  (None, 32, 32, 32)       128       \n",
            " ormalization)                                                   \n",
            "                                                                 \n",
            " dropout (Dropout)           (None, 32, 32, 32)        0         \n",
            "                                                                 \n",
            " conv2d_1 (Conv2D)           (None, 32, 32, 32)        9248      \n",
            "                                                                 \n",
            " max_pooling2d_1 (MaxPooling  (None, 16, 16, 32)       0         \n",
            " 2D)                                                             \n",
            "                                                                 \n",
            " batch_normalization_1 (Batc  (None, 16, 16, 32)       128       \n",
            " hNormalization)                                                 \n",
            "                                                                 \n",
            " dropout_1 (Dropout)         (None, 16, 16, 32)        0         \n",
            "                                                                 \n",
            " flatten (Flatten)           (None, 8192)              0         \n",
            "                                                                 \n",
            " dense (Dense)               (None, 512)               4194816   \n",
            "                                                                 \n",
            " batch_normalization_2 (Batc  (None, 512)              2048      \n",
            " hNormalization)                                                 \n",
            "                                                                 \n",
            " dropout_2 (Dropout)         (None, 512)               0         \n",
            "                                                                 \n",
            " dense_1 (Dense)             (None, 128)               65664     \n",
            "                                                                 \n",
            " dense_2 (Dense)             (None, 2)                 258       \n",
            "                                                                 \n",
            "=================================================================\n",
            "Total params: 4,273,186\n",
            "Trainable params: 4,272,034\n",
            "Non-trainable params: 1,152\n",
            "_________________________________________________________________\n"
          ]
        }
      ]
    },
    {
      "cell_type": "code",
      "source": [
        "from tensorflow.keras.callbacks import ReduceLROnPlateau\n",
        "learning_rate_reduction = ReduceLROnPlateau(monitor='val_accuracy', patience = 5, verbose=1,factor=0.3, min_lr=0.000001)"
      ],
      "metadata": {
        "id": "BKTzHl7kJyrS"
      },
      "execution_count": null,
      "outputs": []
    },
    {
      "cell_type": "markdown",
      "source": [
        "**Training**"
      ],
      "metadata": {
        "id": "1vSHlj2QsXEo"
      }
    },
    {
      "cell_type": "code",
      "source": [
        "history = model1.fit(X_train, \n",
        "                         y_train, \n",
        "                         batch_size = 64, \n",
        "                         verbose = 1, \n",
        "                         epochs = 12,      \n",
        "                         validation_split = 0.1,\n",
        "                         shuffle = False,\n",
        "                         callbacks = [learning_rate_reduction]\n",
        "                     )"
      ],
      "metadata": {
        "id": "9-7zdqG9J1Sw",
        "colab": {
          "base_uri": "https://localhost:8080/"
        },
        "outputId": "dbfb78df-8997-4754-dd86-2c9267590417"
      },
      "execution_count": null,
      "outputs": [
        {
          "output_type": "stream",
          "name": "stdout",
          "text": [
            "Epoch 1/12\n",
            "1/1 [==============================] - 2s 2s/step - loss: 1.1408 - accuracy: 0.2857 - val_loss: 62.0099 - val_accuracy: 0.5000 - lr: 0.0010\n",
            "Epoch 2/12\n",
            "1/1 [==============================] - 0s 233ms/step - loss: 0.0843 - accuracy: 0.9643 - val_loss: 84.8431 - val_accuracy: 0.5000 - lr: 0.0010\n",
            "Epoch 3/12\n",
            "1/1 [==============================] - 0s 231ms/step - loss: 0.0138 - accuracy: 1.0000 - val_loss: 94.5977 - val_accuracy: 0.5000 - lr: 0.0010\n",
            "Epoch 4/12\n",
            "1/1 [==============================] - 0s 271ms/step - loss: 0.0168 - accuracy: 1.0000 - val_loss: 100.6071 - val_accuracy: 0.5000 - lr: 0.0010\n",
            "Epoch 5/12\n",
            "1/1 [==============================] - 0s 327ms/step - loss: 0.0116 - accuracy: 1.0000 - val_loss: 107.8286 - val_accuracy: 0.5000 - lr: 0.0010\n",
            "Epoch 6/12\n",
            "1/1 [==============================] - ETA: 0s - loss: 0.0037 - accuracy: 1.0000\n",
            "Epoch 6: ReduceLROnPlateau reducing learning rate to 0.0003000000142492354.\n",
            "1/1 [==============================] - 0s 357ms/step - loss: 0.0037 - accuracy: 1.0000 - val_loss: 112.8217 - val_accuracy: 0.5000 - lr: 0.0010\n",
            "Epoch 7/12\n",
            "1/1 [==============================] - 0s 393ms/step - loss: 0.0034 - accuracy: 1.0000 - val_loss: 107.5251 - val_accuracy: 0.5000 - lr: 3.0000e-04\n",
            "Epoch 8/12\n",
            "1/1 [==============================] - 0s 414ms/step - loss: 0.0026 - accuracy: 1.0000 - val_loss: 102.9578 - val_accuracy: 0.5000 - lr: 3.0000e-04\n",
            "Epoch 9/12\n",
            "1/1 [==============================] - 0s 428ms/step - loss: 0.0018 - accuracy: 1.0000 - val_loss: 98.8468 - val_accuracy: 0.5000 - lr: 3.0000e-04\n",
            "Epoch 10/12\n",
            "1/1 [==============================] - 0s 378ms/step - loss: 0.0026 - accuracy: 1.0000 - val_loss: 95.0569 - val_accuracy: 0.5000 - lr: 3.0000e-04\n",
            "Epoch 11/12\n",
            "1/1 [==============================] - ETA: 0s - loss: 0.0020 - accuracy: 1.0000\n",
            "Epoch 11: ReduceLROnPlateau reducing learning rate to 9.000000427477062e-05.\n",
            "1/1 [==============================] - 0s 437ms/step - loss: 0.0020 - accuracy: 1.0000 - val_loss: 91.5860 - val_accuracy: 0.5000 - lr: 3.0000e-04\n",
            "Epoch 12/12\n",
            "1/1 [==============================] - 0s 466ms/step - loss: 0.0015 - accuracy: 1.0000 - val_loss: 87.2156 - val_accuracy: 0.5000 - lr: 9.0000e-05\n"
          ]
        }
      ]
    },
    {
      "cell_type": "markdown",
      "source": [
        "**Testing**"
      ],
      "metadata": {
        "id": "VJtsdv64sdV7"
      }
    },
    {
      "cell_type": "code",
      "source": [
        "preds = model1.predict(X_test)"
      ],
      "metadata": {
        "id": "Ffh7mx-KJ-nw"
      },
      "execution_count": null,
      "outputs": []
    },
    {
      "cell_type": "code",
      "source": [
        "preds = preds.argmax(axis=1)\n"
      ],
      "metadata": {
        "id": "T4ouQzNrKAdm"
      },
      "execution_count": null,
      "outputs": []
    },
    {
      "cell_type": "code",
      "source": [
        "y_test = y_test.argmax(axis=1)\n",
        "score = accuracy_score(y_test,preds)\n",
        "score"
      ],
      "metadata": {
        "id": "ShuuxMp-KC44",
        "colab": {
          "base_uri": "https://localhost:8080/"
        },
        "outputId": "cbd21bf3-3d82-419b-add7-2aa8e7659008"
      },
      "execution_count": null,
      "outputs": [
        {
          "output_type": "execute_result",
          "data": {
            "text/plain": [
              "0.625"
            ]
          },
          "metadata": {},
          "execution_count": 13
        }
      ]
    },
    {
      "cell_type": "code",
      "source": [
        "img = X_test[2]\n",
        "plt.imshow(img)\n",
        "plt.axis('off')"
      ],
      "metadata": {
        "colab": {
          "base_uri": "https://localhost:8080/",
          "height": 265
        },
        "id": "eTz-MpJEKI3y",
        "outputId": "02bde2a4-ce42-4599-97d2-f7743b29854c"
      },
      "execution_count": null,
      "outputs": [
        {
          "output_type": "execute_result",
          "data": {
            "text/plain": [
              "(-0.5, 63.5, 63.5, -0.5)"
            ]
          },
          "metadata": {},
          "execution_count": 14
        },
        {
          "output_type": "display_data",
          "data": {
            "text/plain": [
              "<Figure size 432x288 with 1 Axes>"
            ],
            "image/png": "[encoded data removed]"
          },
          "metadata": {
            "needs_background": "light"
          }
        }
      ]
    },
    {
      "cell_type": "code",
      "source": [
        "fig, axs = plt.subplots(2, 2,figsize=(12, 8))\n",
        "\n",
        "axs[0, 0].imshow(X_test[0])\n",
        "axs[0,0].set_title(f'Preds: {preds[0]}, truth: {y_test[0]}')\n",
        "axs[0, 1].imshow(X_test[1])\n",
        "axs[0,1].set_title(f'Preds: {preds[1]}, truth: {y_test[1]}')\n",
        "axs[1, 0].imshow(X_test[2])\n",
        "axs[1,0].set_title(f'Preds: {preds[2]}, truth: {y_test[2]}')\n",
        "axs[1, 1].imshow(X_test[3])\n",
        "axs[1,1].set_title(f'Preds: {preds[3]}, truth: {y_test[3]}')\n",
        "plt.figure(figsize=(12,23))\n",
        "plt.show()\n",
        "\n"
      ],
      "metadata": {
        "colab": {
          "base_uri": "https://localhost:8080/",
          "height": 516
        },
        "id": "NfdVzz_-KPkJ",
        "outputId": "47db578c-5794-4bf6-a6b9-7f097d733d60"
      },
      "execution_count": null,
      "outputs": [
        {
          "output_type": "display_data",
          "data": {
            "text/plain": [
              "<Figure size 864x576 with 4 Axes>"
            ],
            "image/png": "[encoded data removed]"
          },
          "metadata": {
            "needs_background": "light"
          }
        },
        {
          "output_type": "display_data",
          "data": {
            "text/plain": [
              "<Figure size 864x1656 with 0 Axes>"
            ]
          },
          "metadata": {}
        }
      ]
    }
  ]
}